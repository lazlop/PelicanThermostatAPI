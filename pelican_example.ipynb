{
 "cells": [
  {
   "cell_type": "code",
   "execution_count": 1,
   "metadata": {},
   "outputs": [],
   "source": [
    "from pelican import Pelican_Client"
   ]
  },
  {
   "cell_type": "code",
   "execution_count": 2,
   "metadata": {},
   "outputs": [],
   "source": [
    "pc = Pelican_Client('90C_config.json')"
   ]
  },
  {
   "cell_type": "code",
   "execution_count": 3,
   "metadata": {},
   "outputs": [
    {
     "data": {
      "text/plain": [
       "OrderedDict([('Thermostat',\n",
       "              [OrderedDict([('serialNo', '2S5-VXN5'),\n",
       "                            ('name', 'Room1'),\n",
       "                            ('heatSetting', '65'),\n",
       "                            ('coolSetting', '73'),\n",
       "                            ('status', 'Occupied'),\n",
       "                            ('temperature', '70.0'),\n",
       "                            ('temperatureFormat', 'Fahrenheit')]),\n",
       "               OrderedDict([('serialNo', '2S6-5JPV'),\n",
       "                            ('name', 'Room2'),\n",
       "                            ('heatSetting', '67'),\n",
       "                            ('coolSetting', '71'),\n",
       "                            ('status', 'Occupied'),\n",
       "                            ('temperature', '69.7'),\n",
       "                            ('temperatureFormat', 'Fahrenheit')])]),\n",
       "             ('success', '1'),\n",
       "             ('message', 'Retrieved attributes for 2 thermostats.')])"
      ]
     },
     "execution_count": 3,
     "metadata": {},
     "output_type": "execute_result"
    }
   ],
   "source": [
    "pc.scrape_all()"
   ]
  },
  {
   "cell_type": "code",
   "execution_count": 4,
   "metadata": {},
   "outputs": [
    {
     "data": {
      "text/plain": [
       "OrderedDict([('Thermostat',\n",
       "              [OrderedDict([('heatSetting', '65')]),\n",
       "               OrderedDict([('heatSetting', '67')])]),\n",
       "             ('success', '1'),\n",
       "             ('message', 'Retrieved attributes for 2 thermostats.')])"
      ]
     },
     "execution_count": 4,
     "metadata": {},
     "output_type": "execute_result"
    }
   ],
   "source": [
    "pc.get_points(points = ['heatSetting'], thermostat_names=['Room1','Room2'])"
   ]
  },
  {
   "cell_type": "code",
   "execution_count": 7,
   "metadata": {},
   "outputs": [
    {
     "data": {
      "text/plain": [
       "OrderedDict([('Thermostat', OrderedDict([('heatSetting', '66')])),\n",
       "             ('success', '1'),\n",
       "             ('message', 'Retrieved attributes for 1 thermostats.')])"
      ]
     },
     "execution_count": 7,
     "metadata": {},
     "output_type": "execute_result"
    }
   ],
   "source": [
    "pc.get_points(points = ['heatSetting'], thermostat_names='Room1')"
   ]
  },
  {
   "cell_type": "code",
   "execution_count": 6,
   "metadata": {},
   "outputs": [
    {
     "data": {
      "text/plain": [
       "{'result': OrderedDict([('success', '1'),\n",
       "              ('message', 'Updated 1 thermostats.')])}"
      ]
     },
     "execution_count": 6,
     "metadata": {},
     "output_type": "execute_result"
    }
   ],
   "source": [
    "pc.set_points({'heatSetting': 66}, thermostat_names='Room1')"
   ]
  },
  {
   "cell_type": "code",
   "execution_count": 8,
   "metadata": {},
   "outputs": [
    {
     "data": {
      "text/plain": [
       "{'result': OrderedDict([('success', '1'),\n",
       "              ('message', 'Updated 2 thermostats.')])}"
      ]
     },
     "execution_count": 8,
     "metadata": {},
     "output_type": "execute_result"
    }
   ],
   "source": [
    "pc.set_points({'heatSetting': 66}, thermostat_names=['Room1','Room2'])"
   ]
  },
  {
   "cell_type": "code",
   "execution_count": 9,
   "metadata": {},
   "outputs": [
    {
     "data": {
      "text/plain": [
       "OrderedDict([('Thermostat',\n",
       "              [OrderedDict([('heatSetting', '66')]),\n",
       "               OrderedDict([('heatSetting', '66')])]),\n",
       "             ('success', '1'),\n",
       "             ('message', 'Retrieved attributes for 2 thermostats.')])"
      ]
     },
     "execution_count": 9,
     "metadata": {},
     "output_type": "execute_result"
    }
   ],
   "source": [
    "pc.get_points(points = ['heatSetting'], thermostat_names=['Room1','Room2'])"
   ]
  },
  {
   "cell_type": "code",
   "execution_count": 10,
   "metadata": {},
   "outputs": [
    {
     "data": {
      "text/plain": [
       "{'result': OrderedDict([('success', '1'),\n",
       "              ('message', 'Updated 1 thermostats.')])}"
      ]
     },
     "execution_count": 10,
     "metadata": {},
     "output_type": "execute_result"
    }
   ],
   "source": [
    "pc.set_points({'heatSetting': 65}, thermostat_names='Room1')\n",
    "pc.set_points({'heatSetting': 67}, thermostat_names='Room2')"
   ]
  },
  {
   "cell_type": "code",
   "execution_count": 11,
   "metadata": {},
   "outputs": [
    {
     "data": {
      "text/plain": [
       "OrderedDict([('Thermostat',\n",
       "              [OrderedDict([('heatSetting', '65')]),\n",
       "               OrderedDict([('heatSetting', '67')])]),\n",
       "             ('success', '1'),\n",
       "             ('message', 'Retrieved attributes for 2 thermostats.')])"
      ]
     },
     "execution_count": 11,
     "metadata": {},
     "output_type": "execute_result"
    }
   ],
   "source": [
    "pc.get_points(points = ['heatSetting'], thermostat_names=['Room1','Room2'])"
   ]
  },
  {
   "cell_type": "code",
   "execution_count": null,
   "metadata": {},
   "outputs": [],
   "source": []
  }
 ],
 "metadata": {
  "kernelspec": {
   "display_name": "Python 3.8.3 ('base')",
   "language": "python",
   "name": "python3"
  },
  "language_info": {
   "codemirror_mode": {
    "name": "ipython",
    "version": 3
   },
   "file_extension": ".py",
   "mimetype": "text/x-python",
   "name": "python",
   "nbconvert_exporter": "python",
   "pygments_lexer": "ipython3",
   "version": "3.8.3"
  },
  "orig_nbformat": 4,
  "vscode": {
   "interpreter": {
    "hash": "4256a7c48e0d05b8c5d9035f2da9ccd67848a8ce35912b30e9695a74575e054a"
   }
  }
 },
 "nbformat": 4,
 "nbformat_minor": 2
}
